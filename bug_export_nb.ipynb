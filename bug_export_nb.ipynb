{
 "cells": [
  {
   "cell_type": "code",
   "execution_count": null,
   "metadata": {},
   "outputs": [],
   "source": [
    "import pandas as pd\n",
    "input_new = input('Enter file name of new file:')\n",
    "input_prev = input('Enter file name of previous export:')\n",
    "csv = input_new + '.csv'\n",
    "prev_csv = input_prev + '.csv'\n",
    "\n",
    "bug_df = pd.read_csv(csv, index_col='Key', parse_dates=['Created', 'Updated'])\n",
    "bug_df['Created'] = bug_df['Created'].dt.date\n",
    "bug_df['Updated'] = bug_df['Updated'].dt.date\n",
    "bug_df = bug_df.sort_values(by=('Priority'), ascending=True)\n",
    "\n",
    "prev_export = pd.read_csv(prev_csv, index_col='Key', parse_dates=['Created', 'Updated'])\n",
    "#prev_export = pd.read_csv('bugs_export.csv', index_col='Key', parse_dates=['Created', 'Updated'])\n",
    "prev_export['Created'] = prev_export['Created'].dt.date\n",
    "prev_export['Updated'] = prev_export['Updated'].dt.date"
   ]
  },
  {
   "cell_type": "code",
   "execution_count": null,
   "metadata": {},
   "outputs": [],
   "source": [
    "prev_export.update(bug_df)\n",
    "prev_export.head()"
   ]
  },
  {
   "cell_type": "code",
   "execution_count": null,
   "metadata": {},
   "outputs": [],
   "source": [
    "bug_delta = bug_df.loc[bug_df.index.difference(prev_export.index)]\n",
    "bug_delta.head()"
   ]
  },
  {
   "cell_type": "code",
   "execution_count": null,
   "metadata": {},
   "outputs": [],
   "source": [
    "bug_df = pd.concat([prev_export, bug_delta])\n",
    "bug_df.to_csv('bug_delt_concat.csv')\n",
    "bug_df.head(60)"
   ]
  }
 ],
 "metadata": {
  "kernelspec": {
   "display_name": "Python 3.10.8 64-bit (microsoft store)",
   "language": "python",
   "name": "python3"
  },
  "language_info": {
   "codemirror_mode": {
    "name": "ipython",
    "version": 3
   },
   "file_extension": ".py",
   "mimetype": "text/x-python",
   "name": "python",
   "nbconvert_exporter": "python",
   "pygments_lexer": "ipython3",
   "version": "3.10.9 (tags/v3.10.9:1dd9be6, Dec  6 2022, 20:01:21) [MSC v.1934 64 bit (AMD64)]"
  },
  "orig_nbformat": 4,
  "vscode": {
   "interpreter": {
    "hash": "d22c7248f8386920b9e801aa325250b6f3fb33caaf7556a3672f864bbeb79a88"
   }
  }
 },
 "nbformat": 4,
 "nbformat_minor": 2
}
