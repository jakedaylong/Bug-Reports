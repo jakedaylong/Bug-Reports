{
 "cells": [
  {
   "cell_type": "code",
   "execution_count": null,
   "metadata": {},
   "outputs": [],
   "source": [
    "import pandas as pd\n",
    "import matplotlib.pyplot as plt\n",
    "import seaborn as sns\n",
    "import numpy as np\n",
    "import mpld3\n",
    "\n",
    "bug_df = pd.read_csv('My_Requests_15_12_2022_11_30.csv', index_col='Key', parse_dates=['Created', 'Updated'])\n",
    "bug_df['Created'] = bug_df['Created'].dt.date\n",
    "bug_df['Updated'] = bug_df['Updated'].dt.date\n",
    "bug_df = bug_df.sort_values(by=('Priority'), ascending=True)"
   ]
  },
  {
   "cell_type": "markdown",
   "metadata": {},
   "source": [
    "#convert date column to datetime and subtract one week\n",
    "bug_df['Created'] = pd.to_datetime(bug_df['Created']) - pd.to_timedelta(7, unit='d')\n",
    "\n",
    "#calculate sum of values, grouped by week\n",
    "bug_df_week = bug_df.groupby([pd.Grouper(key='Created', freq='W')]).count()\n",
    "\n",
    "bug_df_week.head(60)"
   ]
  },
  {
   "cell_type": "markdown",
   "metadata": {},
   "source": [
    "Plot for Count of Bugs by Creation Date"
   ]
  },
  {
   "cell_type": "code",
   "execution_count": null,
   "metadata": {},
   "outputs": [],
   "source": [
    "bug_df.sort_values(by='Status', ascending=True)\n",
    "fig, ax = plt.subplots(figsize=(12,8))\n",
    "palette = {'Customer Action':'tab:red','In Progress':'tab:blue', 'Open':'tab:orange', 'Resolved':'tab:green', 'in Discussion':'tab:grey'}\n",
    "sns.set_context('notebook')\n",
    "sns.histplot(data=bug_df, x='Priority', hue='Status', multiple='stack', palette=palette)\n",
    "plt.savefig(fname='Count_By_Priority')"
   ]
  },
  {
   "cell_type": "code",
   "execution_count": null,
   "metadata": {},
   "outputs": [],
   "source": [
    "html_str = mpld3.fig_to_html(fig)\n",
    "Html_file= open(\"count_by_priority.html\",\"w\")\n",
    "Html_file.write(html_str)\n",
    "Html_file.close()"
   ]
  },
  {
   "cell_type": "markdown",
   "metadata": {},
   "source": [
    "Count by Priority"
   ]
  },
  {
   "cell_type": "code",
   "execution_count": null,
   "metadata": {},
   "outputs": [],
   "source": [
    "bug_df.sort_values(by='Priority', ascending=True)\n",
    "fig, ax = plt.subplots(figsize=(12,8))\n",
    "palette = {'Blocker':'tab:red', 'Major':'tab:orange', 'Minor':'tab:green', 'Trivial':'tab:blue'}\n",
    "sns.set_context('notebook')\n",
    "sns.histplot(data=bug_df, x='Status', hue='Priority', multiple='stack', palette=palette)\n",
    "plt.savefig(fname='Count_By_Status')"
   ]
  },
  {
   "cell_type": "code",
   "execution_count": null,
   "metadata": {},
   "outputs": [],
   "source": [
    "html_str = mpld3.fig_to_html(fig)\n",
    "Html_file= open(\"count_by_status.html\",\"w\")\n",
    "Html_file.write(html_str)\n",
    "Html_file.close()"
   ]
  },
  {
   "cell_type": "code",
   "execution_count": null,
   "metadata": {},
   "outputs": [],
   "source": [
    "bug_df_count = bug_df.groupby('Created').count()\n",
    "bug_df_count['Adj_Sum'] = bug_df_count['Type'] - bug_df_count['Resolution']\n",
    "bug_df_cumsum = bug_df_count.cumsum() \n",
    "#bug_df_count.head()\n",
    "bug_df_cumsum.head(60)\n"
   ]
  },
  {
   "cell_type": "code",
   "execution_count": null,
   "metadata": {},
   "outputs": [],
   "source": [
    "bug_df_adjsum = pd.DataFrame()\n",
    "bug_df_adjsum['Adj_Sum'] = bug_df_cumsum['Adj_Sum']\n",
    "bug_df_adjsum = bug_df_adjsum.reset_index()\n",
    "bug_df_adjsum.head()"
   ]
  },
  {
   "cell_type": "code",
   "execution_count": null,
   "metadata": {},
   "outputs": [],
   "source": [
    "#sns.barplot(data=bug_df_adjsum, x='Updated', y='Adj_Sum')"
   ]
  },
  {
   "cell_type": "code",
   "execution_count": null,
   "metadata": {},
   "outputs": [],
   "source": [
    "\n",
    "bug_df_count_upd = bug_df.groupby('Updated').count()\n",
    "bug_df_count_upd['Res_Sum'] = bug_df_count_upd['Resolution']\n",
    "bug_df_cumsum_res = bug_df_count_upd.cumsum()\n",
    "bug_df_cumsum_res.head()\n"
   ]
  },
  {
   "cell_type": "code",
   "execution_count": null,
   "metadata": {},
   "outputs": [],
   "source": [
    "bug_df_hist_res = bug_df.query('Resolution != [\"Fixed\"]')\n",
    "bug_df_hist_res.head()\n"
   ]
  },
  {
   "cell_type": "code",
   "execution_count": null,
   "metadata": {},
   "outputs": [],
   "source": [
    "bug_df_hist = pd.DataFrame()\n",
    "bug_df_hist['Adj_Sum'] = bug_df_cumsum['Adj_Sum']\n",
    "bug_df_hist.head()"
   ]
  },
  {
   "cell_type": "code",
   "execution_count": null,
   "metadata": {},
   "outputs": [],
   "source": [
    "fig, ax = plt.subplots(figsize=(12,8))\n",
    "plt.xticks(rotation=45)\n",
    "sns.lineplot(data=bug_df_cumsum, x='Created', y='Type', marker='o', legend=True, label='Cumulative Sum')\n",
    "sns.lineplot(data=bug_df_cumsum_res, x='Updated', y='Res_Sum', marker='o', legend=True, label='Resolution Cumulative Sum')\n",
    "\n",
    "plt.savefig(fname='Cumsum_Total_vs_Resolved')"
   ]
  },
  {
   "cell_type": "code",
   "execution_count": null,
   "metadata": {},
   "outputs": [],
   "source": [
    "html_str = mpld3.fig_to_html(fig)\n",
    "Html_file= open(\"Sum_total_vs_resolved.html\",\"w\")\n",
    "Html_file.write(html_str)\n",
    "Html_file.close()"
   ]
  },
  {
   "cell_type": "code",
   "execution_count": null,
   "metadata": {},
   "outputs": [],
   "source": [
    "#bug_df_hist_res = bug_df_hist_res.groupby('Created').count()\n",
    "bug_df_hist_res.head()"
   ]
  },
  {
   "cell_type": "code",
   "execution_count": null,
   "metadata": {},
   "outputs": [],
   "source": [
    "fig, ax = plt.subplots(figsize=(12,8))\n",
    "plt.xticks(rotation=45)\n",
    "sns.histplot(data=bug_df_hist_res, x='Updated', hue='Priority', multiple='stack')"
   ]
  },
  {
   "cell_type": "markdown",
   "metadata": {},
   "source": [
    "Cumulative Sum of Total Bugs (Adjusted for Resolved bugs) and Cumulative Sum of Resolved Bugs"
   ]
  }
 ],
 "metadata": {
  "kernelspec": {
   "display_name": "Python 3 (ipykernel)",
   "language": "python",
   "name": "python3"
  },
  "language_info": {
   "codemirror_mode": {
    "name": "ipython",
    "version": 3
   },
   "file_extension": ".py",
   "mimetype": "text/x-python",
   "name": "python",
   "nbconvert_exporter": "python",
   "pygments_lexer": "ipython3",
   "version": "3.10.9 (tags/v3.10.9:1dd9be6, Dec  6 2022, 20:01:21) [MSC v.1934 64 bit (AMD64)]"
  },
  "vscode": {
   "interpreter": {
    "hash": "d22c7248f8386920b9e801aa325250b6f3fb33caaf7556a3672f864bbeb79a88"
   }
  }
 },
 "nbformat": 4,
 "nbformat_minor": 4
}
