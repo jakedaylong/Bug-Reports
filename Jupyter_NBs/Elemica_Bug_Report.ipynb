{
 "cells": [
  {
   "cell_type": "code",
   "execution_count": null,
   "metadata": {},
   "outputs": [],
   "source": [
    "import pandas as pd\n",
    "import matplotlib.pyplot as plt\n",
    "import seaborn as sns\n",
    "\n",
    "bug_df = pd.read_csv('My_Requests_13_12_2022_11_24.csv', index_col='Key', parse_dates=['Created', 'Updated'])\n",
    "bug_df['Created'] = bug_df['Created'].dt.date\n",
    "bug_df['Updated'] = bug_df['Updated'].dt.date\n",
    "bug_df = bug_df.sort_values(by=('Priority'), ascending=True)"
   ]
  },
  {
   "cell_type": "code",
   "execution_count": null,
   "metadata": {},
   "outputs": [],
   "source": [
    "#bug_df.head()"
   ]
  },
  {
   "cell_type": "code",
   "execution_count": null,
   "metadata": {},
   "outputs": [],
   "source": [
    "fig, ax = plt.subplots(figsize=(12,8))\n",
    "palette = {'NaN':'tab:red', 'Fixed':'tab:orange'}\n",
    "#palette = ['tab:red', 'tab:orange', 'tab:green', 'tab:blue']\n",
    "sns.set_context('notebook')\n",
    "sns.histplot(data=bug_df, x='Created', hue='Status', multiple='stack')\n",
    "plt.savefig(fname='count_of_bugs_creation_date')"
   ]
  },
  {
   "cell_type": "markdown",
   "metadata": {},
   "source": [
    "Plot for Count of Bugs by Creation Date"
   ]
  },
  {
   "cell_type": "code",
   "execution_count": null,
   "metadata": {},
   "outputs": [],
   "source": [
    "today = pd.to_datetime('today').date()\n",
    "bug_df['Aging'] = today - bug_df['Created']\n",
    "#print(bug_df)\n",
    "bug_df_aging = bug_df\n",
    "bug_df_aging = bug_df_aging.sort_values(by='Aging', ascending=False)\n",
    "bug_df_aging.to_excel(excel_writer='bugs_aging.xlsx')\n",
    "bug_df_aging.to_csv('bugs_aging.csv')"
   ]
  },
  {
   "cell_type": "markdown",
   "metadata": {},
   "source": [
    "Count by Priority"
   ]
  },
  {
   "cell_type": "code",
   "execution_count": null,
   "metadata": {},
   "outputs": [],
   "source": [
    "bug_df_aging = bug_df_aging.sort_values(by='Priority', ascending=True)\n",
    "fig, ax = plt.subplots(figsize=(12,8))\n",
    "palette = {'Blocker':'tab:red', 'Major':'tab:orange', 'Minor':'tab:green', 'Trivial':'tab:blue'}\n",
    "sns.set_context('notebook')\n",
    "sns.histplot(data=bug_df_aging, x='Status', hue='Priority', multiple='stack', palette=palette)\n",
    "plt.savefig(fname='Count_By_Status')"
   ]
  },
  {
   "cell_type": "code",
   "execution_count": null,
   "metadata": {},
   "outputs": [],
   "source": [
    "bug_df_count = bug_df.groupby('Created').count()\n",
    "bug_df_count['Adj_Sum'] = bug_df_count['Type'] - bug_df_count['Resolution']\n",
    "bug_df_cumsum = bug_df_count.cumsum() \n",
    "#bug_df_count.head()\n",
    "#bug_df_cumsum.head()\n"
   ]
  },
  {
   "cell_type": "code",
   "execution_count": null,
   "metadata": {},
   "outputs": [],
   "source": [
    "\n",
    "bug_df_count_upd = bug_df.groupby('Updated').count()\n",
    "bug_df_count_upd['Res_Sum'] = bug_df_count_upd['Resolution']\n",
    "bug_df_cumsum_res = bug_df_count_upd.cumsum()\n",
    "#bug_df_cumsum_res.head(10)\n"
   ]
  },
  {
   "cell_type": "code",
   "execution_count": null,
   "metadata": {},
   "outputs": [],
   "source": [
    "bug_df_cumsum_res_new_df = bug_df_cumsum_res.to_csv('test_csv.csv')\n",
    "bug_df_cumsum_res_new_df = pd.read_csv('test_csv.csv')\n",
    "#bug_df_cumsum_res_new_df.head()"
   ]
  },
  {
   "cell_type": "code",
   "execution_count": null,
   "metadata": {},
   "outputs": [],
   "source": [
    "\n",
    "fig, ax = plt.subplots(figsize=(12,8))\n",
    "#palette = ['tab:red', 'tab:orange', 'tab:green', 'tab:blue']\n",
    "sns.set_context('notebook')\n",
    "sns.lineplot(data=bug_df_cumsum, x='Created', y='Type', marker='o', legend='auto')\n",
    "#sns.lineplot(data=bug_df_cumsum, x='Created', y='Adj_Sum', marker='o', legend='auto')\n",
    "sns.lineplot(data=bug_df_cumsum_res, x='Updated', y='Res_Sum', marker='o', legend='auto')\n",
    "#plt.legend(labels=[\"CumSum of Bugs\", \"CumSum of Resolved Bugs\"])\n",
    "plt.savefig(fname='Cumsum_Total_vs_Resolved')"
   ]
  },
  {
   "cell_type": "markdown",
   "metadata": {},
   "source": [
    "Cumulative Sum of Total Bugs (Adjusted for Resolved bugs) and Cumulative Sum of Resolved Bugs"
   ]
  },
  {
   "cell_type": "code",
   "execution_count": null,
   "metadata": {},
   "outputs": [],
   "source": []
  }
 ],
 "metadata": {
  "kernelspec": {
   "display_name": "Python 3 (ipykernel)",
   "language": "python",
   "name": "python3"
  },
  "language_info": {
   "codemirror_mode": {
    "name": "ipython",
    "version": 3
   },
   "file_extension": ".py",
   "mimetype": "text/x-python",
   "name": "python",
   "nbconvert_exporter": "python",
   "pygments_lexer": "ipython3",
   "version": "3.10.9 (tags/v3.10.9:1dd9be6, Dec  6 2022, 20:01:21) [MSC v.1934 64 bit (AMD64)]"
  },
  "vscode": {
   "interpreter": {
    "hash": "d22c7248f8386920b9e801aa325250b6f3fb33caaf7556a3672f864bbeb79a88"
   }
  }
 },
 "nbformat": 4,
 "nbformat_minor": 4
}
