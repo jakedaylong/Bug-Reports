{
 "cells": [
  {
   "cell_type": "code",
   "execution_count": null,
   "metadata": {},
   "outputs": [],
   "source": [
    "import pandas as pd\n",
    "import matplotlib.pyplot as plt\n",
    "import seaborn as sns\n",
    "\n",
    "bug_df = pd.read_csv('My_Requests_01_12_2022_10_20.csv', index_col='Key', parse_dates=['Created', 'Updated'])\n",
    "bug_df['Created'] = bug_df['Created'].dt.date\n",
    "bug_df['Updated'] = bug_df['Updated'].dt.date\n",
    "bug_df = bug_df.sort_values(by=('Priority'), ascending=True)\n",
    "bug_df.head()"
   ]
  },
  {
   "cell_type": "code",
   "execution_count": null,
   "metadata": {},
   "outputs": [],
   "source": [
    "\n",
    "prev_export = pd.read_csv('bugs_aging.csv', index_col='Key', parse_dates=['Created', 'Updated'])\n",
    "#prev_export = pd.read_csv('bugs_export.csv', index_col='Key', parse_dates=['Created', 'Updated'])\n",
    "prev_export['Created'] = prev_export['Created'].dt.date\n",
    "prev_export['Updated'] = prev_export['Updated'].dt.date\n",
    "prev_export.head(60)\n"
   ]
  },
  {
   "cell_type": "code",
   "execution_count": null,
   "metadata": {},
   "outputs": [],
   "source": [
    "resolved = pd.DataFrame(prev_export)"
   ]
  },
  {
   "cell_type": "code",
   "execution_count": null,
   "metadata": {},
   "outputs": [],
   "source": [
    "\n",
    "#new_export = pd.concat([bug_df, prev_export]).drop_duplicates(subset='', keep=False)\n",
    "new_export = bug_df.loc[bug_df.index.difference(prev_export.index)]\n",
    "new_export.head(60)\n"
   ]
  },
  {
   "cell_type": "code",
   "execution_count": null,
   "metadata": {},
   "outputs": [],
   "source": [
    "\n",
    "with pd.ExcelWriter('bugs_export.xlsx', mode='a', engine='openpyxl', if_sheet_exists='overlay') as writer:\n",
    "    new_export.to_excel(writer, sheet_name='Sheet1', header=None, startrow=writer.sheets['Sheet1'].max_row, index=True)"
   ]
  }
 ],
 "metadata": {
  "kernelspec": {
   "display_name": "Python 3.10.8 64-bit (microsoft store)",
   "language": "python",
   "name": "python3"
  },
  "language_info": {
   "codemirror_mode": {
    "name": "ipython",
    "version": 3
   },
   "file_extension": ".py",
   "mimetype": "text/x-python",
   "name": "python",
   "nbconvert_exporter": "python",
   "pygments_lexer": "ipython3",
   "version": "3.10.9 (tags/v3.10.9:1dd9be6, Dec  6 2022, 20:01:21) [MSC v.1934 64 bit (AMD64)]"
  },
  "orig_nbformat": 4,
  "vscode": {
   "interpreter": {
    "hash": "d22c7248f8386920b9e801aa325250b6f3fb33caaf7556a3672f864bbeb79a88"
   }
  }
 },
 "nbformat": 4,
 "nbformat_minor": 2
}
